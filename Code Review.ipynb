{
 "cells": [
  {
   "cell_type": "code",
   "execution_count": 124,
   "id": "0a8438c6-2770-415a-b0fe-5c917f676e75",
   "metadata": {},
   "outputs": [],
   "source": [
    "import os\n",
    "import pandas as pd\n",
    "import seaborn as sns\n",
    "import matplotlib.pyplot as plt\n",
    "\n",
    "def prepare_smartphone_data(file_path):\n",
    "    \"\"\"\n",
    "    To prepare the smartphone data for visualization, a number of transformations \n",
    "    will be applied after reading in the raw DataFrame to memory, including:\n",
    "        - reducing the number of columns to only those needed for later analysis\n",
    "        - removing records without a battery_capacity value\n",
    "        - divide the price column by 100 to find the dollar amount\n",
    "    \n",
    "    :param file_path: the file path where the raw smartphone data is stored\n",
    "    :return: a cleaned dataset having had the operations above applied to it\n",
    "    \"\"\"\n",
    "    \n",
    "    # Check if file exists before proceeding\n",
    "    if os.path.exists(file_path):\n",
    "        raw_data = pd.read_csv(file_path)\n",
    "        # Update 1: Variable name 'raw Data' changed to 'raw_data' for Python snake_case naming convention.\n",
    "    else:\n",
    "        raise Exception(f\"File not found at {file_path}\")\n",
    "\n",
    "    # Keep only necessary columns for analysis\n",
    "    feature_set = [\n",
    "        \"brand_name\",\n",
    "        \"os\",\n",
    "        \"price\",\n",
    "        \"avg_rating\",\n",
    "        \"processor_speed\",\n",
    "        \"battery_capacity\",\n",
    "        \"screen_size\"\n",
    "    ]\n",
    "    # Update 2: Renamed 'columns_to_keep_in_clean data' to 'feature_set' for clarity and succinctness.\n",
    "    clean_data = raw_data.loc[:, feature_set]\n",
    "    \n",
    "    # Remove entries without 'battery_capacity' or 'os'\n",
    "    clean_data = clean_data.dropna(subset=[\"battery_capacity\", \"os\"])\n",
    "    # Update 3: Adjusted spacing in 'dropna' function call to improve readability.\n",
    "    \n",
    "    # Convert 'price' column to reflect dollar amounts\n",
    "    clean_data[\"price\"] = clean_data[\"price\"] / 100\n",
    "    # Update 4: Added spaces around '/' operator for better code readability.\n",
    "    \n",
    "    return clean_data\n",
    "\n",
    "cleaned_data = prepare_smartphone_data(\"smartphones.csv\")"
   ]
  },
  {
   "cell_type": "code",
   "execution_count": null,
   "id": "0982d6b4-7dbb-4a91-be5e-d567fe7b95ff",
   "metadata": {},
   "outputs": [],
   "source": []
  }
 ],
 "metadata": {
  "kernelspec": {
   "display_name": "Python 3 (ipykernel)",
   "language": "python",
   "name": "python3"
  },
  "language_info": {
   "codemirror_mode": {
    "name": "ipython",
    "version": 3
   },
   "file_extension": ".py",
   "mimetype": "text/x-python",
   "name": "python",
   "nbconvert_exporter": "python",
   "pygments_lexer": "ipython3",
   "version": "3.12.4"
  }
 },
 "nbformat": 4,
 "nbformat_minor": 5
}
